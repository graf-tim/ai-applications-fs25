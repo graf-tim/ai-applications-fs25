{
 "cells": [
  {
   "cell_type": "markdown",
   "metadata": {},
   "source": [
    "## Feature Engineering"
   ]
  },
  {
   "cell_type": "code",
   "execution_count": 21,
   "metadata": {},
   "outputs": [],
   "source": [
    "# Libraries\n",
    "import numpy as np\n",
    "import pandas as pd\n",
    "from sklearn.ensemble import RandomForestRegressor\n",
    "from sklearn.model_selection import cross_val_score\n",
    "\n",
    "# Ignore warnings\n",
    "import warnings\n",
    "warnings.filterwarnings(\"ignore\")"
   ]
  },
  {
   "cell_type": "code",
   "execution_count": 22,
   "metadata": {},
   "outputs": [
    {
     "name": "stdout",
     "output_type": "stream",
     "text": [
      "      bfs_number  rooms  area  price  postalcode  \\\n",
      "0            261    4.5   148   4180        8050   \n",
      "1            261    2.0   122   3190        8050   \n",
      "2            261    3.5    78   2780        8050   \n",
      "3            261    3.5    69   3750        8050   \n",
      "4            261    3.5    74   2390        8050   \n",
      "...          ...    ...   ...    ...         ...   \n",
      "2395           3    4.5   104   2055        8906   \n",
      "2396         196    4.5    98   1950        8617   \n",
      "2397           4    5.5   175   3720        8915   \n",
      "2398         173    4.5   130   2400        8335   \n",
      "2399         192    3.5   102   2272        8132   \n",
      "\n",
      "                                     address              town  \\\n",
      "0       Schaffhauserstrasse 363, 8050 Zürich            Zürich   \n",
      "1              Max Bill Platz 5, 8050 Zürich            Zürich   \n",
      "2          Regensbergstrasse 30, 8050 Zürich            Zürich   \n",
      "3             Dörflistrasse 112, 8050 Zürich            Zürich   \n",
      "4       Schaffhauserstrasse 445, 8050 Zürich            Zürich   \n",
      "...                                      ...               ...   \n",
      "2395            Dorfstr. 17, 8906 Bonstetten        Bonstetten   \n",
      "2396  Langenmattstrasse 14, 8617 Mönchaltorf       Mönchaltorf   \n",
      "2397      Oberalbis 10, 8915 Hausen am Albis   Hausen am Albis   \n",
      "2398          Isikerstrasse 26, 8335 Hittnau           Hittnau   \n",
      "2399        Bachtelweg 2, 8132 Egg b. Zürich     Egg b. Zürich   \n",
      "\n",
      "                                        description_raw         bfs_name  \\\n",
      "0     ««Renovierte 4.5-Zimmerwohnung an zentraler La...           Zürich   \n",
      "1             «Modernes Wohnen im Zentrum von Oerlikon»           Zürich   \n",
      "2                           «Wohnen am Puls von Zürich»           Zürich   \n",
      "3     «Trendy Oerlikon 3.5 Room w/ Balcony, 1min to ...           Zürich   \n",
      "4       «Helle und zentrale Wohnung in Zürich-Oerlikon»           Zürich   \n",
      "...                                                 ...              ...   \n",
      "2395  «Grosszügige 4.5 Maisonette WHG sucht Nachmieter»       Bonstetten   \n",
      "2396  «Naturnahes Familienparadies: 4.5-Zimmer-Wohnu...      Mönchaltorf   \n",
      "2397  «Wohnung inGrosser stimmungsvoller 5 1/2 Haust...  Hausen am Albis   \n",
      "2398                    «Gemütliches Wohnen in Hittnau»          Hittnau   \n",
      "2399  «Terrassen Wohnung mit schöner Aussicht zu ver...              Egg   \n",
      "\n",
      "         pop     pop_dens    frg_pct       emp  tax_income        lat  \\\n",
      "0     420217  4778.994655  32.458468  491193.0       85446  47.411068   \n",
      "1     420217  4778.994655  32.458468  491193.0       85446  47.413803   \n",
      "2     420217  4778.994655  32.458468  491193.0       85446  47.404903   \n",
      "3     420217  4778.994655  32.458468  491193.0       85446  47.410824   \n",
      "4     420217  4778.994655  32.458468  491193.0       85446  47.417095   \n",
      "...      ...          ...        ...       ...         ...        ...   \n",
      "2395    5572   749.932705  16.564968    1014.0       91002  47.314835   \n",
      "2396    3898   513.570487  17.162648    1360.0       78986  47.315971   \n",
      "2397    3751   275.808824  16.022394    1021.0       91766  47.252140   \n",
      "2398    3664   282.934363   7.669214     783.0       79838  47.370026   \n",
      "2399    8796   605.368204  19.918145    2469.0       94471  47.297756   \n",
      "\n",
      "           lon              x            y  \n",
      "0     8.546547  251729.250000  683615.3750  \n",
      "1     8.539404  252026.109375  683072.0000  \n",
      "2     8.554218  251052.390625  684204.0625  \n",
      "3     8.547832  251703.875000  683712.7500  \n",
      "4     8.544920  252397.609375  683483.1250  \n",
      "...        ...            ...          ...  \n",
      "2395  8.469243  240951.375000  677922.0625  \n",
      "2396  8.719728  241357.031250  696857.1250  \n",
      "2397  8.530311  234044.109375  682635.9375  \n",
      "2398  8.819698  247494.140625  704308.8750  \n",
      "2399  8.692446  239298.828125  694827.0000  \n",
      "\n",
      "[2400 rows x 18 columns]\n"
     ]
    }
   ],
   "source": [
    "# Read the data to a pandas data frame\n",
    "df = pd.read_csv('apartments_data_enriched_lat_lon_combined.csv', sep=',', encoding='utf-8')\n",
    "# Get number of rows and columns\n",
    "df.shape\n",
    "print(df)"
   ]
  },
  {
   "cell_type": "code",
   "execution_count": 23,
   "metadata": {},
   "outputs": [
    {
     "name": "stdout",
     "output_type": "stream",
     "text": [
      "      bfs_number  rooms  area  price  postalcode  \\\n",
      "0            261    4.5   148   4180        8050   \n",
      "1            261    2.0   122   3190        8050   \n",
      "2            261    3.5    78   2780        8050   \n",
      "3            261    3.5    69   3750        8050   \n",
      "4            261    3.5    74   2390        8050   \n",
      "...          ...    ...   ...    ...         ...   \n",
      "2395           3    4.5   104   2055        8906   \n",
      "2396         196    4.5    98   1950        8617   \n",
      "2397           4    5.5   175   3720        8915   \n",
      "2398         173    4.5   130   2400        8335   \n",
      "2399         192    3.5   102   2272        8132   \n",
      "\n",
      "                                     address              town  \\\n",
      "0       Schaffhauserstrasse 363, 8050 Zürich            Zürich   \n",
      "1              Max Bill Platz 5, 8050 Zürich            Zürich   \n",
      "2          Regensbergstrasse 30, 8050 Zürich            Zürich   \n",
      "3             Dörflistrasse 112, 8050 Zürich            Zürich   \n",
      "4       Schaffhauserstrasse 445, 8050 Zürich            Zürich   \n",
      "...                                      ...               ...   \n",
      "2395            Dorfstr. 17, 8906 Bonstetten        Bonstetten   \n",
      "2396  Langenmattstrasse 14, 8617 Mönchaltorf       Mönchaltorf   \n",
      "2397      Oberalbis 10, 8915 Hausen am Albis   Hausen am Albis   \n",
      "2398          Isikerstrasse 26, 8335 Hittnau           Hittnau   \n",
      "2399        Bachtelweg 2, 8132 Egg b. Zürich     Egg b. Zürich   \n",
      "\n",
      "                                        description_raw         bfs_name  \\\n",
      "0     ««Renovierte 4.5-Zimmerwohnung an zentraler La...           Zürich   \n",
      "1             «Modernes Wohnen im Zentrum von Oerlikon»           Zürich   \n",
      "2                           «Wohnen am Puls von Zürich»           Zürich   \n",
      "3     «Trendy Oerlikon 3.5 Room w/ Balcony, 1min to ...           Zürich   \n",
      "4       «Helle und zentrale Wohnung in Zürich-Oerlikon»           Zürich   \n",
      "...                                                 ...              ...   \n",
      "2395  «Grosszügige 4.5 Maisonette WHG sucht Nachmieter»       Bonstetten   \n",
      "2396  «Naturnahes Familienparadies: 4.5-Zimmer-Wohnu...      Mönchaltorf   \n",
      "2397  «Wohnung inGrosser stimmungsvoller 5 1/2 Haust...  Hausen am Albis   \n",
      "2398                    «Gemütliches Wohnen in Hittnau»          Hittnau   \n",
      "2399  «Terrassen Wohnung mit schöner Aussicht zu ver...              Egg   \n",
      "\n",
      "         pop     pop_dens    frg_pct       emp  tax_income        lat  \\\n",
      "0     420217  4778.994655  32.458468  491193.0       85446  47.411068   \n",
      "1     420217  4778.994655  32.458468  491193.0       85446  47.413803   \n",
      "2     420217  4778.994655  32.458468  491193.0       85446  47.404903   \n",
      "3     420217  4778.994655  32.458468  491193.0       85446  47.410824   \n",
      "4     420217  4778.994655  32.458468  491193.0       85446  47.417095   \n",
      "...      ...          ...        ...       ...         ...        ...   \n",
      "2395    5572   749.932705  16.564968    1014.0       91002  47.314835   \n",
      "2396    3898   513.570487  17.162648    1360.0       78986  47.315971   \n",
      "2397    3751   275.808824  16.022394    1021.0       91766  47.252140   \n",
      "2398    3664   282.934363   7.669214     783.0       79838  47.370026   \n",
      "2399    8796   605.368204  19.918145    2469.0       94471  47.297756   \n",
      "\n",
      "           lon              x            y  distance_to_zurich_hb_in_km  \n",
      "0     8.546547  251729.250000  683615.3750                     3.688458  \n",
      "1     8.539404  252026.109375  683072.0000                     3.961886  \n",
      "2     8.554218  251052.390625  684204.0625                     3.153836  \n",
      "3     8.547832  251703.875000  683712.7500                     3.675437  \n",
      "4     8.544920  252397.609375  683483.1250                     4.342112  \n",
      "...        ...            ...          ...                          ...  \n",
      "2395  8.469243  240951.375000  677922.0625                     8.842068  \n",
      "2396  8.719728  241357.031250  696857.1250                    15.192362  \n",
      "2397  8.530311  234044.109375  682635.9375                    14.034453  \n",
      "2398  8.819698  247494.140625  704308.8750                    21.066928  \n",
      "2399  8.692446  239298.828125  694827.0000                    14.546249  \n",
      "\n",
      "[2400 rows x 19 columns]\n"
     ]
    }
   ],
   "source": [
    "# Define Zurich HB (City Center) coordinates\n",
    "ZURICH_HB_LAT = 47.378177\n",
    "ZURICH_HB_LON = 8.540192\n",
    "\n",
    "# Function to calculate Haversine distance (great-circle distance)\n",
    "def haversine(lat1, lon1, lat2, lon2):\n",
    "    R = 6371  # Earth radius in kilometers\n",
    "    lat1, lon1, lat2, lon2 = map(np.radians, [lat1, lon1, lat2, lon2])  # Convert degrees to radians\n",
    "    dlat = lat2 - lat1\n",
    "    dlon = lon2 - lon1\n",
    "    a = np.sin(dlat/2)**2 + np.cos(lat1) * np.cos(lat2) * np.sin(dlon/2)**2\n",
    "    c = 2 * np.arctan2(np.sqrt(a), np.sqrt(1 - a))\n",
    "    return R * c  # Distance in km\n",
    "\n",
    "# Apply function to dataset to compute distance to Zürich HB\n",
    "df[\"distance_to_zurich_hb_in_km\"] = df.apply(\n",
    "    lambda row: haversine(row[\"lat\"], row[\"lon\"], ZURICH_HB_LAT, ZURICH_HB_LON), axis=1\n",
    ")\n",
    "print(df)"
   ]
  },
  {
   "cell_type": "markdown",
   "metadata": {},
   "source": [
    "## Training"
   ]
  },
  {
   "cell_type": "code",
   "execution_count": null,
   "metadata": {},
   "outputs": [],
   "source": []
  },
  {
   "cell_type": "markdown",
   "metadata": {},
   "source": [
    "## Build Website"
   ]
  },
  {
   "cell_type": "code",
   "execution_count": null,
   "metadata": {},
   "outputs": [
    {
     "name": "stdout",
     "output_type": "stream",
     "text": [
      "* Running on local URL:  http://127.0.0.1:7865\n",
      "\n",
      "To create a public link, set `share=True` in `launch()`.\n"
     ]
    },
    {
     "data": {
      "text/html": [
       "<div><iframe src=\"http://127.0.0.1:7865/\" width=\"100%\" height=\"500\" allow=\"autoplay; camera; microphone; clipboard-read; clipboard-write;\" frameborder=\"0\" allowfullscreen></iframe></div>"
      ],
      "text/plain": [
       "<IPython.core.display.HTML object>"
      ]
     },
     "metadata": {},
     "output_type": "display_data"
    },
    {
     "data": {
      "text/plain": []
     },
     "execution_count": 24,
     "metadata": {},
     "output_type": "execute_result"
    }
   ],
   "source": [
    "import gradio as gr\n",
    "import pandas as pd\n",
    "import numpy as np\n",
    "from sklearn.datasets import load_iris\n",
    "from sklearn.model_selection import cross_val_score\n",
    "from sklearn.ensemble import RandomForestClassifier\n",
    "\n",
    "def predict(param1):\n",
    "    return param1\n",
    "\n",
    "# Create Gradio interface\n",
    "demo = gr.Interface(\n",
    "    fn=predict,\n",
    "    inputs=[\n",
    "        gr.Number(label=\"Rooms\"),\n",
    "        gr.Number(label=\"Area\"),\n",
    "        gr.Number(label=\"Distance To Zürich HB in km\"),\n",
    "        gr.Dropdown(choices=df[\"town\"].unique().tolist(), label=\"Town\")\n",
    "    ],\n",
    "    outputs=\"text\",\n",
    "    examples=[\n",
    "        [5.1, 3.5, 1.4, 0.2],\n",
    "        [6.2, 2.9, 4.3, 1.3],\n",
    "        [7.7, 3.8, 6.7, 2.2],\n",
    "    ],\n",
    "    title=\"Apartment price Prediction\",\n",
    "    description=\"Enter the Apartment details to predict the price\"\n",
    ")\n",
    "\n",
    "demo.launch()\n"
   ]
  }
 ],
 "metadata": {
  "kernelspec": {
   "display_name": "Python 3",
   "language": "python",
   "name": "python3"
  },
  "language_info": {
   "codemirror_mode": {
    "name": "ipython",
    "version": 3
   },
   "file_extension": ".py",
   "mimetype": "text/x-python",
   "name": "python",
   "nbconvert_exporter": "python",
   "pygments_lexer": "ipython3",
   "version": "3.12.1"
  }
 },
 "nbformat": 4,
 "nbformat_minor": 2
}
