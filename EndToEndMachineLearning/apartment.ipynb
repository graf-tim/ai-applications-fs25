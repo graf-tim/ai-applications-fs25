{
 "cells": [
  {
   "cell_type": "markdown",
   "metadata": {},
   "source": [
    "## Apartment AI"
   ]
  },
  {
   "cell_type": "code",
   "execution_count": 27,
   "metadata": {},
   "outputs": [],
   "source": [
    "# Libraries\n",
    "import numpy as np\n",
    "import pandas as pd\n",
    "from sklearn.ensemble import RandomForestClassifier\n",
    "from sklearn.ensemble import RandomForestRegressor\n",
    "from sklearn.model_selection import cross_val_score\n",
    "from sklearn.model_selection import train_test_split\n",
    "from sklearn.metrics import root_mean_squared_error\n",
    "import gradio as gr\n",
    "import pickle\n",
    "\n",
    "# Ignore warnings\n",
    "import warnings\n",
    "warnings.filterwarnings(\"ignore\")"
   ]
  },
  {
   "cell_type": "markdown",
   "metadata": {},
   "source": [
    "### Get Data"
   ]
  },
  {
   "cell_type": "code",
   "execution_count": 28,
   "metadata": {},
   "outputs": [
    {
     "name": "stdout",
     "output_type": "stream",
     "text": [
      "      bfs_number  rooms  area  price  postalcode  \\\n",
      "0            261    4.5   148   4180        8050   \n",
      "1            261    2.0   122   3190        8050   \n",
      "2            261    3.5    78   2780        8050   \n",
      "3            261    3.5    69   3750        8050   \n",
      "4            261    3.5    74   2390        8050   \n",
      "...          ...    ...   ...    ...         ...   \n",
      "2395           3    4.5   104   2055        8906   \n",
      "2396         196    4.5    98   1950        8617   \n",
      "2397           4    5.5   175   3720        8915   \n",
      "2398         173    4.5   130   2400        8335   \n",
      "2399         192    3.5   102   2272        8132   \n",
      "\n",
      "                                     address              town  \\\n",
      "0       Schaffhauserstrasse 363, 8050 Zürich            Zürich   \n",
      "1              Max Bill Platz 5, 8050 Zürich            Zürich   \n",
      "2          Regensbergstrasse 30, 8050 Zürich            Zürich   \n",
      "3             Dörflistrasse 112, 8050 Zürich            Zürich   \n",
      "4       Schaffhauserstrasse 445, 8050 Zürich            Zürich   \n",
      "...                                      ...               ...   \n",
      "2395            Dorfstr. 17, 8906 Bonstetten        Bonstetten   \n",
      "2396  Langenmattstrasse 14, 8617 Mönchaltorf       Mönchaltorf   \n",
      "2397      Oberalbis 10, 8915 Hausen am Albis   Hausen am Albis   \n",
      "2398          Isikerstrasse 26, 8335 Hittnau           Hittnau   \n",
      "2399        Bachtelweg 2, 8132 Egg b. Zürich     Egg b. Zürich   \n",
      "\n",
      "                                        description_raw         bfs_name  \\\n",
      "0     ««Renovierte 4.5-Zimmerwohnung an zentraler La...           Zürich   \n",
      "1             «Modernes Wohnen im Zentrum von Oerlikon»           Zürich   \n",
      "2                           «Wohnen am Puls von Zürich»           Zürich   \n",
      "3     «Trendy Oerlikon 3.5 Room w/ Balcony, 1min to ...           Zürich   \n",
      "4       «Helle und zentrale Wohnung in Zürich-Oerlikon»           Zürich   \n",
      "...                                                 ...              ...   \n",
      "2395  «Grosszügige 4.5 Maisonette WHG sucht Nachmieter»       Bonstetten   \n",
      "2396  «Naturnahes Familienparadies: 4.5-Zimmer-Wohnu...      Mönchaltorf   \n",
      "2397  «Wohnung inGrosser stimmungsvoller 5 1/2 Haust...  Hausen am Albis   \n",
      "2398                    «Gemütliches Wohnen in Hittnau»          Hittnau   \n",
      "2399  «Terrassen Wohnung mit schöner Aussicht zu ver...              Egg   \n",
      "\n",
      "         pop     pop_dens    frg_pct       emp  tax_income        lat  \\\n",
      "0     420217  4778.994655  32.458468  491193.0       85446  47.411068   \n",
      "1     420217  4778.994655  32.458468  491193.0       85446  47.413803   \n",
      "2     420217  4778.994655  32.458468  491193.0       85446  47.404903   \n",
      "3     420217  4778.994655  32.458468  491193.0       85446  47.410824   \n",
      "4     420217  4778.994655  32.458468  491193.0       85446  47.417095   \n",
      "...      ...          ...        ...       ...         ...        ...   \n",
      "2395    5572   749.932705  16.564968    1014.0       91002  47.314835   \n",
      "2396    3898   513.570487  17.162648    1360.0       78986  47.315971   \n",
      "2397    3751   275.808824  16.022394    1021.0       91766  47.252140   \n",
      "2398    3664   282.934363   7.669214     783.0       79838  47.370026   \n",
      "2399    8796   605.368204  19.918145    2469.0       94471  47.297756   \n",
      "\n",
      "           lon              x            y  \n",
      "0     8.546547  251729.250000  683615.3750  \n",
      "1     8.539404  252026.109375  683072.0000  \n",
      "2     8.554218  251052.390625  684204.0625  \n",
      "3     8.547832  251703.875000  683712.7500  \n",
      "4     8.544920  252397.609375  683483.1250  \n",
      "...        ...            ...          ...  \n",
      "2395  8.469243  240951.375000  677922.0625  \n",
      "2396  8.719728  241357.031250  696857.1250  \n",
      "2397  8.530311  234044.109375  682635.9375  \n",
      "2398  8.819698  247494.140625  704308.8750  \n",
      "2399  8.692446  239298.828125  694827.0000  \n",
      "\n",
      "[2400 rows x 18 columns]\n"
     ]
    }
   ],
   "source": [
    "# Read the data to a pandas data frame\n",
    "df_data = pd.read_csv('apartments_data_enriched_lat_lon_combined.csv', sep=',', encoding='utf-8')\n",
    "# Get number of rows and columns\n",
    "df_data.shape\n",
    "print(df_data)"
   ]
  },
  {
   "cell_type": "markdown",
   "metadata": {},
   "source": [
    "## Feature Engineering"
   ]
  },
  {
   "cell_type": "code",
   "execution_count": 29,
   "metadata": {},
   "outputs": [
    {
     "name": "stdout",
     "output_type": "stream",
     "text": [
      "      bfs_number  rooms  area  price  postalcode  \\\n",
      "0            261    4.5   148   4180        8050   \n",
      "1            261    2.0   122   3190        8050   \n",
      "2            261    3.5    78   2780        8050   \n",
      "3            261    3.5    69   3750        8050   \n",
      "4            261    3.5    74   2390        8050   \n",
      "...          ...    ...   ...    ...         ...   \n",
      "2395           3    4.5   104   2055        8906   \n",
      "2396         196    4.5    98   1950        8617   \n",
      "2397           4    5.5   175   3720        8915   \n",
      "2398         173    4.5   130   2400        8335   \n",
      "2399         192    3.5   102   2272        8132   \n",
      "\n",
      "                                     address              town  \\\n",
      "0       Schaffhauserstrasse 363, 8050 Zürich            Zürich   \n",
      "1              Max Bill Platz 5, 8050 Zürich            Zürich   \n",
      "2          Regensbergstrasse 30, 8050 Zürich            Zürich   \n",
      "3             Dörflistrasse 112, 8050 Zürich            Zürich   \n",
      "4       Schaffhauserstrasse 445, 8050 Zürich            Zürich   \n",
      "...                                      ...               ...   \n",
      "2395            Dorfstr. 17, 8906 Bonstetten        Bonstetten   \n",
      "2396  Langenmattstrasse 14, 8617 Mönchaltorf       Mönchaltorf   \n",
      "2397      Oberalbis 10, 8915 Hausen am Albis   Hausen am Albis   \n",
      "2398          Isikerstrasse 26, 8335 Hittnau           Hittnau   \n",
      "2399        Bachtelweg 2, 8132 Egg b. Zürich     Egg b. Zürich   \n",
      "\n",
      "                                        description_raw         bfs_name  \\\n",
      "0     ««Renovierte 4.5-Zimmerwohnung an zentraler La...           Zürich   \n",
      "1             «Modernes Wohnen im Zentrum von Oerlikon»           Zürich   \n",
      "2                           «Wohnen am Puls von Zürich»           Zürich   \n",
      "3     «Trendy Oerlikon 3.5 Room w/ Balcony, 1min to ...           Zürich   \n",
      "4       «Helle und zentrale Wohnung in Zürich-Oerlikon»           Zürich   \n",
      "...                                                 ...              ...   \n",
      "2395  «Grosszügige 4.5 Maisonette WHG sucht Nachmieter»       Bonstetten   \n",
      "2396  «Naturnahes Familienparadies: 4.5-Zimmer-Wohnu...      Mönchaltorf   \n",
      "2397  «Wohnung inGrosser stimmungsvoller 5 1/2 Haust...  Hausen am Albis   \n",
      "2398                    «Gemütliches Wohnen in Hittnau»          Hittnau   \n",
      "2399  «Terrassen Wohnung mit schöner Aussicht zu ver...              Egg   \n",
      "\n",
      "         pop     pop_dens    frg_pct       emp  tax_income        lat  \\\n",
      "0     420217  4778.994655  32.458468  491193.0       85446  47.411068   \n",
      "1     420217  4778.994655  32.458468  491193.0       85446  47.413803   \n",
      "2     420217  4778.994655  32.458468  491193.0       85446  47.404903   \n",
      "3     420217  4778.994655  32.458468  491193.0       85446  47.410824   \n",
      "4     420217  4778.994655  32.458468  491193.0       85446  47.417095   \n",
      "...      ...          ...        ...       ...         ...        ...   \n",
      "2395    5572   749.932705  16.564968    1014.0       91002  47.314835   \n",
      "2396    3898   513.570487  17.162648    1360.0       78986  47.315971   \n",
      "2397    3751   275.808824  16.022394    1021.0       91766  47.252140   \n",
      "2398    3664   282.934363   7.669214     783.0       79838  47.370026   \n",
      "2399    8796   605.368204  19.918145    2469.0       94471  47.297756   \n",
      "\n",
      "           lon              x            y  distance_to_zurich_hb_in_km  \n",
      "0     8.546547  251729.250000  683615.3750                     3.688458  \n",
      "1     8.539404  252026.109375  683072.0000                     3.961886  \n",
      "2     8.554218  251052.390625  684204.0625                     3.153836  \n",
      "3     8.547832  251703.875000  683712.7500                     3.675437  \n",
      "4     8.544920  252397.609375  683483.1250                     4.342112  \n",
      "...        ...            ...          ...                          ...  \n",
      "2395  8.469243  240951.375000  677922.0625                     8.842068  \n",
      "2396  8.719728  241357.031250  696857.1250                    15.192362  \n",
      "2397  8.530311  234044.109375  682635.9375                    14.034453  \n",
      "2398  8.819698  247494.140625  704308.8750                    21.066928  \n",
      "2399  8.692446  239298.828125  694827.0000                    14.546249  \n",
      "\n",
      "[2400 rows x 19 columns]\n"
     ]
    }
   ],
   "source": [
    "# Define Zurich HB (City Center) coordinates\n",
    "ZURICH_HB_LAT = 47.378177\n",
    "ZURICH_HB_LON = 8.540192\n",
    "\n",
    "# Function to calculate Haversine distance (great-circle distance)\n",
    "def haversine(lat1, lon1, lat2, lon2):\n",
    "    R = 6371  # Earth radius in kilometers\n",
    "    lat1, lon1, lat2, lon2 = map(np.radians, [lat1, lon1, lat2, lon2])  # Convert degrees to radians\n",
    "    dlat = lat2 - lat1\n",
    "    dlon = lon2 - lon1\n",
    "    a = np.sin(dlat/2)**2 + np.cos(lat1) * np.cos(lat2) * np.sin(dlon/2)**2\n",
    "    c = 2 * np.arctan2(np.sqrt(a), np.sqrt(1 - a))\n",
    "    return R * c  # Distance in km\n",
    "\n",
    "# Apply function to dataset to compute distance to Zürich HB\n",
    "df_data[\"distance_to_zurich_hb_in_km\"] = df_data.apply(\n",
    "    lambda row: haversine(row[\"lat\"], row[\"lon\"], ZURICH_HB_LAT, ZURICH_HB_LON), axis=1\n",
    ")\n",
    "print(df_data)"
   ]
  },
  {
   "cell_type": "markdown",
   "metadata": {},
   "source": [
    "### Training"
   ]
  },
  {
   "cell_type": "code",
   "execution_count": 30,
   "metadata": {},
   "outputs": [
    {
     "name": "stdout",
     "output_type": "stream",
     "text": [
      "Train score:  0.9553916709079772\n",
      "Test score:  0.5919896508378145\n",
      "Train RMSE:  257.95756363746\n",
      "Test RMSE:  805.2618868619544\n"
     ]
    }
   ],
   "source": [
    "# Create train and test samples\n",
    "features = ['rooms', 'area', 'distance_to_zurich_hb_in_km']\n",
    "\n",
    "X_train, X_test, y_train, y_test = train_test_split(df_data[features], \n",
    "                                                         df_data['price'], \n",
    "                                                        test_size=0.20, \n",
    "                                                        random_state=42)\n",
    "\n",
    "# train random_forest_model = RandomForestRegressor()\n",
    "random_forest_model = RandomForestRegressor(random_state=42)\n",
    "\n",
    "# Fit the model\n",
    "random_forest_model.fit(X_train, y_train)\n",
    "print(\"Train score: \", random_forest_model.score(X_train, y_train))\n",
    "print(\"Test score: \", random_forest_model.score(X_test, y_test))\n",
    "\n",
    "print(\"Train RMSE: \", root_mean_squared_error(y_train, random_forest_model.predict(X_train)))\n",
    "print(\"Test RMSE: \", root_mean_squared_error(y_test, random_forest_model.predict(X_test)))"
   ]
  },
  {
   "cell_type": "markdown",
   "metadata": {},
   "source": [
    "## Build Website"
   ]
  },
  {
   "cell_type": "code",
   "execution_count": 31,
   "metadata": {},
   "outputs": [
    {
     "ename": "NameError",
     "evalue": "name 'df' is not defined",
     "output_type": "error",
     "traceback": [
      "\u001b[0;31m---------------------------------------------------------------------------\u001b[0m",
      "\u001b[0;31mNameError\u001b[0m                                 Traceback (most recent call last)",
      "Cell \u001b[0;32mIn[31], line 22\u001b[0m\n\u001b[1;32m     13\u001b[0m predict_apartment(\u001b[38;5;241m3\u001b[39m, \u001b[38;5;241m100\u001b[39m, \u001b[38;5;124m'\u001b[39m\u001b[38;5;124mZürich\u001b[39m\u001b[38;5;124m'\u001b[39m)\n\u001b[1;32m     15\u001b[0m \u001b[38;5;66;03m# Create Gradio interface\u001b[39;00m\n\u001b[1;32m     16\u001b[0m iFace \u001b[38;5;241m=\u001b[39m gr\u001b[38;5;241m.\u001b[39mInterface(\n\u001b[1;32m     17\u001b[0m     fn\u001b[38;5;241m=\u001b[39mpredict_apartment,\n\u001b[1;32m     18\u001b[0m     inputs\u001b[38;5;241m=\u001b[39m[\n\u001b[1;32m     19\u001b[0m         gr\u001b[38;5;241m.\u001b[39mNumber(label\u001b[38;5;241m=\u001b[39m\u001b[38;5;124m\"\u001b[39m\u001b[38;5;124mRooms\u001b[39m\u001b[38;5;124m\"\u001b[39m),\n\u001b[1;32m     20\u001b[0m         gr\u001b[38;5;241m.\u001b[39mNumber(label\u001b[38;5;241m=\u001b[39m\u001b[38;5;124m\"\u001b[39m\u001b[38;5;124mArea\u001b[39m\u001b[38;5;124m\"\u001b[39m),\n\u001b[1;32m     21\u001b[0m         gr\u001b[38;5;241m.\u001b[39mNumber(label\u001b[38;5;241m=\u001b[39m\u001b[38;5;124m\"\u001b[39m\u001b[38;5;124mDistance To Zürich HB in km\u001b[39m\u001b[38;5;124m\"\u001b[39m),\n\u001b[0;32m---> 22\u001b[0m         gr\u001b[38;5;241m.\u001b[39mDropdown(choices\u001b[38;5;241m=\u001b[39m\u001b[43mdf\u001b[49m[\u001b[38;5;124m\"\u001b[39m\u001b[38;5;124mtown\u001b[39m\u001b[38;5;124m\"\u001b[39m]\u001b[38;5;241m.\u001b[39munique()\u001b[38;5;241m.\u001b[39mtolist(), label\u001b[38;5;241m=\u001b[39m\u001b[38;5;124m\"\u001b[39m\u001b[38;5;124mTown\u001b[39m\u001b[38;5;124m\"\u001b[39m)\n\u001b[1;32m     23\u001b[0m     ],\n\u001b[1;32m     24\u001b[0m     outputs\u001b[38;5;241m=\u001b[39m\u001b[38;5;124m\"\u001b[39m\u001b[38;5;124mtext\u001b[39m\u001b[38;5;124m\"\u001b[39m,\n\u001b[1;32m     25\u001b[0m     examples\u001b[38;5;241m=\u001b[39m[\n\u001b[1;32m     26\u001b[0m         [\u001b[38;5;241m5.1\u001b[39m, \u001b[38;5;241m3.5\u001b[39m, \u001b[38;5;241m1.4\u001b[39m, \u001b[38;5;241m0.2\u001b[39m],\n\u001b[1;32m     27\u001b[0m         [\u001b[38;5;241m6.2\u001b[39m, \u001b[38;5;241m2.9\u001b[39m, \u001b[38;5;241m4.3\u001b[39m, \u001b[38;5;241m1.3\u001b[39m],\n\u001b[1;32m     28\u001b[0m         [\u001b[38;5;241m7.7\u001b[39m, \u001b[38;5;241m3.8\u001b[39m, \u001b[38;5;241m6.7\u001b[39m, \u001b[38;5;241m2.2\u001b[39m],\n\u001b[1;32m     29\u001b[0m     ],\n\u001b[1;32m     30\u001b[0m     title\u001b[38;5;241m=\u001b[39m\u001b[38;5;124m\"\u001b[39m\u001b[38;5;124mApartment price Prediction\u001b[39m\u001b[38;5;124m\"\u001b[39m,\n\u001b[1;32m     31\u001b[0m     description\u001b[38;5;241m=\u001b[39m\u001b[38;5;124m\"\u001b[39m\u001b[38;5;124mEnter the Apartment details to predict the price\u001b[39m\u001b[38;5;124m\"\u001b[39m\n\u001b[1;32m     32\u001b[0m )\n\u001b[1;32m     34\u001b[0m iFace\u001b[38;5;241m.\u001b[39mlaunch()\n",
      "\u001b[0;31mNameError\u001b[0m: name 'df' is not defined"
     ]
    }
   ],
   "source": [
    "# Define the core prediction function\n",
    "def predict_apartment(rooms, area, town):\n",
    "    bfs_number = 261\n",
    "    df = df_data[df_data['bfs_number']==bfs_number].copy()\n",
    "    df.reset_index(inplace=True)\n",
    "    df.loc[0, 'rooms'] = rooms\n",
    "    df.loc[0, 'area'] = area\n",
    "    if len(df) != 1: # if there are more than two records with the same bfs_number reutrn -1\n",
    "        return -1\n",
    "    prediction = random_forest_model.predict(df[['rooms', 'area', 'pop', 'pop_dens', 'frg_pct', 'emp', 'tax_income']])\n",
    "    return np.round(prediction[0], 0)\n",
    "\n",
    "predict_apartment(3, 100, 'Zürich')\n",
    "\n",
    "# Create Gradio interface\n",
    "iFace = gr.Interface(\n",
    "    fn=predict_apartment,\n",
    "    inputs=[\n",
    "        gr.Number(label=\"Rooms\"),\n",
    "        gr.Number(label=\"Area\"),\n",
    "        gr.Number(label=\"Distance To Zürich HB in km\"),\n",
    "        gr.Dropdown(choices=df[\"town\"].unique().tolist(), label=\"Town\")\n",
    "    ],\n",
    "    outputs=\"text\",\n",
    "    examples=[\n",
    "        [5.1, 3.5, 1.4, 0.2],\n",
    "        [6.2, 2.9, 4.3, 1.3],\n",
    "        [7.7, 3.8, 6.7, 2.2],\n",
    "    ],\n",
    "    title=\"Apartment price Prediction\",\n",
    "    description=\"Enter the Apartment details to predict the price\"\n",
    ")\n",
    "\n",
    "iFace.launch()\n"
   ]
  }
 ],
 "metadata": {
  "kernelspec": {
   "display_name": "Python 3",
   "language": "python",
   "name": "python3"
  },
  "language_info": {
   "codemirror_mode": {
    "name": "ipython",
    "version": 3
   },
   "file_extension": ".py",
   "mimetype": "text/x-python",
   "name": "python",
   "nbconvert_exporter": "python",
   "pygments_lexer": "ipython3",
   "version": "3.12.1"
  }
 },
 "nbformat": 4,
 "nbformat_minor": 2
}
